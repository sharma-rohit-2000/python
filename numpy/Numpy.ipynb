{
 "cells": [
  {
   "cell_type": "code",
   "execution_count": 1,
   "id": "97f4d6ef",
   "metadata": {},
   "outputs": [],
   "source": [
    "import numpy as np"
   ]
  },
  {
   "cell_type": "code",
   "execution_count": 2,
   "id": "f8bb43a9",
   "metadata": {},
   "outputs": [
    {
     "data": {
      "text/plain": [
       "array([1, 2, 3, 4])"
      ]
     },
     "execution_count": 2,
     "metadata": {},
     "output_type": "execute_result"
    }
   ],
   "source": [
    "# This is one dimensional array \n",
    "a=np.array([1,2,3,4])\n",
    "a"
   ]
  },
  {
   "cell_type": "code",
   "execution_count": 3,
   "id": "f7656da0",
   "metadata": {},
   "outputs": [
    {
     "data": {
      "text/plain": [
       "array([[1, 2, 3, 4],\n",
       "       [5, 6, 7, 8]])"
      ]
     },
     "execution_count": 3,
     "metadata": {},
     "output_type": "execute_result"
    }
   ],
   "source": [
    "# This is two dimensional array \n",
    "a=np.array([[1,2,3,4],[5,6,7,8]])\n",
    "a                                                                                                                                                                                                                                                                                                                                                                                                                                                                                                                                                                                                                                                                                                               "
   ]
  },
  {
   "cell_type": "code",
   "execution_count": 4,
   "id": "646fc407",
   "metadata": {},
   "outputs": [
    {
     "data": {
      "text/plain": [
       "array([[[ 1,  2,  3,  4],\n",
       "        [ 5,  6,  7,  8],\n",
       "        [ 9, 10, 11, 12]]])"
      ]
     },
     "execution_count": 4,
     "metadata": {},
     "output_type": "execute_result"
    }
   ],
   "source": [
    "# This is three dimensional array \n",
    "a=np.array([[[1,2,3,4],[5,6,7,8],[9,10,11,12]]])\n",
    "a"
   ]
  },
  {
   "cell_type": "code",
   "execution_count": null,
   "id": "8f9bd336",
   "metadata": {},
   "outputs": [],
   "source": []
  },
  {
   "cell_type": "raw",
   "id": "55c1909b",
   "metadata": {},
   "source": [
    "Methods of Numpy"
   ]
  },
  {
   "cell_type": "code",
   "execution_count": 5,
   "id": "e5d7ed21",
   "metadata": {},
   "outputs": [
    {
     "data": {
      "text/plain": [
       "(1, 3, 4)"
      ]
     },
     "execution_count": 5,
     "metadata": {},
     "output_type": "execute_result"
    }
   ],
   "source": [
    "# It will return the shape of the array\n",
    "a.shape"
   ]
  },
  {
   "cell_type": "code",
   "execution_count": 6,
   "id": "96210c7c",
   "metadata": {},
   "outputs": [
    {
     "data": {
      "text/plain": [
       "3"
      ]
     },
     "execution_count": 6,
     "metadata": {},
     "output_type": "execute_result"
    }
   ],
   "source": [
    "# It will return the dimension of the array\n",
    "a.ndim"
   ]
  },
  {
   "cell_type": "code",
   "execution_count": 7,
   "id": "d964a88a",
   "metadata": {},
   "outputs": [
    {
     "data": {
      "text/plain": [
       "12"
      ]
     },
     "execution_count": 7,
     "metadata": {},
     "output_type": "execute_result"
    }
   ],
   "source": [
    "# It will return total number of element in the array\n",
    "a.size"
   ]
  },
  {
   "cell_type": "code",
   "execution_count": 8,
   "id": "305e47ae",
   "metadata": {},
   "outputs": [
    {
     "data": {
      "text/plain": [
       "array([[[ 1],\n",
       "        [ 5],\n",
       "        [ 9]],\n",
       "\n",
       "       [[ 2],\n",
       "        [ 6],\n",
       "        [10]],\n",
       "\n",
       "       [[ 3],\n",
       "        [ 7],\n",
       "        [11]],\n",
       "\n",
       "       [[ 4],\n",
       "        [ 8],\n",
       "        [12]]])"
      ]
     },
     "execution_count": 8,
     "metadata": {},
     "output_type": "execute_result"
    }
   ],
   "source": [
    "# It converts rows into column and column into rows\n",
    "a.T"
   ]
  },
  {
   "cell_type": "code",
   "execution_count": 9,
   "id": "dfd20476",
   "metadata": {},
   "outputs": [
    {
     "data": {
      "text/plain": [
       "array([[[ 1,  2,  3,  4],\n",
       "        [ 5,  6,  7,  8],\n",
       "        [ 9, 10, 11, 12]]])"
      ]
     },
     "execution_count": 9,
     "metadata": {},
     "output_type": "execute_result"
    }
   ],
   "source": [
    "a"
   ]
  },
  {
   "cell_type": "markdown",
   "id": "69718aac",
   "metadata": {},
   "source": [
    "Function in Numpy"
   ]
  },
  {
   "cell_type": "code",
   "execution_count": 10,
   "id": "e4c781f4",
   "metadata": {},
   "outputs": [],
   "source": [
    "# Here are using arange fucntion for creating array\n",
    "# It works same as the range fucntion works\n",
    "m=np.arange(1,13).reshape(4,3)\n",
    "n=np.arange(21,33).reshape(4,3)"
   ]
  },
  {
   "cell_type": "code",
   "execution_count": 11,
   "id": "52bddc5f",
   "metadata": {},
   "outputs": [
    {
     "data": {
      "text/plain": [
       "array([[ 1,  2,  3],\n",
       "       [ 4,  5,  6],\n",
       "       [ 7,  8,  9],\n",
       "       [10, 11, 12]])"
      ]
     },
     "execution_count": 11,
     "metadata": {},
     "output_type": "execute_result"
    }
   ],
   "source": [
    "m"
   ]
  },
  {
   "cell_type": "code",
   "execution_count": 12,
   "id": "92549a98",
   "metadata": {},
   "outputs": [
    {
     "data": {
      "text/plain": [
       "array([[21, 22, 23],\n",
       "       [24, 25, 26],\n",
       "       [27, 28, 29],\n",
       "       [30, 31, 32]])"
      ]
     },
     "execution_count": 12,
     "metadata": {},
     "output_type": "execute_result"
    }
   ],
   "source": [
    "n"
   ]
  },
  {
   "cell_type": "code",
   "execution_count": 13,
   "id": "dcaa9a47",
   "metadata": {},
   "outputs": [
    {
     "data": {
      "text/plain": [
       "array([[ 1,  2,  3],\n",
       "       [ 4,  5,  6],\n",
       "       [ 7,  8,  9],\n",
       "       [10, 11, 12],\n",
       "       [21, 22, 23],\n",
       "       [24, 25, 26],\n",
       "       [27, 28, 29],\n",
       "       [30, 31, 32]])"
      ]
     },
     "execution_count": 13,
     "metadata": {},
     "output_type": "execute_result"
    }
   ],
   "source": [
    "# This function is used to add two array and \n",
    "# axis value is used to specify the way we have to\n",
    "# add the array  where '0' stands for column\n",
    "# and '1'  stands for row \n",
    "\n",
    "np.concatenate([m,n],axis=0)"
   ]
  },
  {
   "cell_type": "code",
   "execution_count": 14,
   "id": "5e80cb03",
   "metadata": {},
   "outputs": [
    {
     "data": {
      "text/plain": [
       "array([[ 1,  2,  3, 21, 22, 23],\n",
       "       [ 4,  5,  6, 24, 25, 26],\n",
       "       [ 7,  8,  9, 27, 28, 29],\n",
       "       [10, 11, 12, 30, 31, 32]])"
      ]
     },
     "execution_count": 14,
     "metadata": {},
     "output_type": "execute_result"
    }
   ],
   "source": [
    "np.concatenate([m,n],axis=1)"
   ]
  },
  {
   "cell_type": "code",
   "execution_count": 15,
   "id": "052096d3",
   "metadata": {},
   "outputs": [
    {
     "data": {
      "text/plain": [
       "array([1, 2, 3, 4])"
      ]
     },
     "execution_count": 15,
     "metadata": {},
     "output_type": "execute_result"
    }
   ],
   "source": [
    "# Here are using arange fucntion for creating array\n",
    "# It works same as the range fucntion works\n",
    "a=np.arange(1,5)\n",
    "a"
   ]
  },
  {
   "cell_type": "code",
   "execution_count": 16,
   "id": "a69ee925",
   "metadata": {},
   "outputs": [
    {
     "data": {
      "text/plain": [
       "array([1, 2, 3, 4, 5, 6])"
      ]
     },
     "execution_count": 16,
     "metadata": {},
     "output_type": "execute_result"
    }
   ],
   "source": [
    "# This function is also used to add the value \n",
    "# but here the value will be added at the end \n",
    "# as we are not specifying the index number\n",
    "np.append(a,[5,6])"
   ]
  },
  {
   "cell_type": "code",
   "execution_count": 17,
   "id": "e14be6e7",
   "metadata": {},
   "outputs": [
    {
     "data": {
      "text/plain": [
       "array([1, 8, 2, 3, 4])"
      ]
     },
     "execution_count": 17,
     "metadata": {},
     "output_type": "execute_result"
    }
   ],
   "source": [
    "# for adding the value from array we have \n",
    "# to specify the index number and  value\n",
    "np.insert(a,1,8)"
   ]
  },
  {
   "cell_type": "code",
   "execution_count": 18,
   "id": "649f8955",
   "metadata": {},
   "outputs": [
    {
     "data": {
      "text/plain": [
       "array([1, 3, 4])"
      ]
     },
     "execution_count": 18,
     "metadata": {},
     "output_type": "execute_result"
    }
   ],
   "source": [
    "# for deleting the value from array we have \n",
    "# to specify the index number of value\n",
    "np.delete(a,[1])"
   ]
  },
  {
   "cell_type": "code",
   "execution_count": 19,
   "id": "af4b7807",
   "metadata": {},
   "outputs": [
    {
     "data": {
      "text/plain": [
       "array([[          0,          32,  1936532091,  1684627303,   841103906],\n",
       "       [ 1664181092,   828727860,   875968097,  1647653168,  1714447671],\n",
       "       [ 1916285340, -2147469520,   573584949,  1937056300,  1634628197],\n",
       "       [  975332717,  1702065442,  1835101810,   573317733,  1936942451]])"
      ]
     },
     "execution_count": 19,
     "metadata": {},
     "output_type": "execute_result"
    }
   ],
   "source": [
    "# create empty array\n",
    "np.empty(shape=(4,5),dtype=int)"
   ]
  },
  {
   "cell_type": "code",
   "execution_count": 20,
   "id": "4939ac1e",
   "metadata": {},
   "outputs": [
    {
     "data": {
      "text/plain": [
       "array([[1, 1, 1, 1, 1],\n",
       "       [1, 1, 1, 1, 1],\n",
       "       [1, 1, 1, 1, 1],\n",
       "       [1, 1, 1, 1, 1]])"
      ]
     },
     "execution_count": 20,
     "metadata": {},
     "output_type": "execute_result"
    }
   ],
   "source": [
    "# create array having all element as 1\n",
    "np.ones(shape=(4,5),dtype=int)"
   ]
  },
  {
   "cell_type": "code",
   "execution_count": 21,
   "id": "88c397f0",
   "metadata": {},
   "outputs": [
    {
     "data": {
      "text/plain": [
       "array([[0, 0, 0, 0, 0],\n",
       "       [0, 0, 0, 0, 0],\n",
       "       [0, 0, 0, 0, 0],\n",
       "       [0, 0, 0, 0, 0]])"
      ]
     },
     "execution_count": 21,
     "metadata": {},
     "output_type": "execute_result"
    }
   ],
   "source": [
    "# create array having all element as =0\n",
    "np.zeros(shape=(4,5),dtype=int)"
   ]
  },
  {
   "cell_type": "code",
   "execution_count": 22,
   "id": "ad007a4b",
   "metadata": {},
   "outputs": [
    {
     "data": {
      "text/plain": [
       "array([[1., 0., 0.],\n",
       "       [0., 1., 0.],\n",
       "       [0., 0., 1.]])"
      ]
     },
     "execution_count": 22,
     "metadata": {},
     "output_type": "execute_result"
    }
   ],
   "source": [
    "# create identity array\n",
    "np.identity(3)"
   ]
  },
  {
   "cell_type": "code",
   "execution_count": null,
   "id": "1960d09f",
   "metadata": {},
   "outputs": [],
   "source": []
  },
  {
   "cell_type": "code",
   "execution_count": 23,
   "id": "3fd8548b",
   "metadata": {},
   "outputs": [
    {
     "data": {
      "text/plain": [
       "array([[10, 10, 10, 10, 10],\n",
       "       [10, 10, 10, 10, 10],\n",
       "       [10, 10, 10, 10, 10],\n",
       "       [10, 10, 10, 10, 10]])"
      ]
     },
     "execution_count": 23,
     "metadata": {},
     "output_type": "execute_result"
    }
   ],
   "source": [
    "# create array having same entries\n",
    "np.full((4,5),10)"
   ]
  },
  {
   "cell_type": "code",
   "execution_count": 24,
   "id": "eb3020fb",
   "metadata": {},
   "outputs": [
    {
     "data": {
      "text/plain": [
       "array([ 1.        ,  7.33333333, 13.66666667, 20.        ])"
      ]
     },
     "execution_count": 24,
     "metadata": {},
     "output_type": "execute_result"
    }
   ],
   "source": [
    "# create array having specified difference among them\n",
    "np.linspace(1,20,4)"
   ]
  },
  {
   "cell_type": "code",
   "execution_count": 25,
   "id": "147d217a",
   "metadata": {},
   "outputs": [
    {
     "data": {
      "text/plain": [
       "array([ 1,  2,  3,  4,  5,  6,  7,  8,  9, 10, 11, 12])"
      ]
     },
     "execution_count": 25,
     "metadata": {},
     "output_type": "execute_result"
    }
   ],
   "source": [
    "m=np.arange(1,13)\n",
    "m"
   ]
  },
  {
   "cell_type": "markdown",
   "id": "13dbf706",
   "metadata": {},
   "source": [
    "Slicing of 1D array"
   ]
  },
  {
   "cell_type": "code",
   "execution_count": 26,
   "id": "d67cdefc",
   "metadata": {},
   "outputs": [
    {
     "data": {
      "text/plain": [
       "array([1, 4])"
      ]
     },
     "execution_count": 26,
     "metadata": {},
     "output_type": "execute_result"
    }
   ],
   "source": [
    "# Here we are retreiving the element by providing the index number\n",
    "m[:5:3]"
   ]
  },
  {
   "cell_type": "code",
   "execution_count": 27,
   "id": "6c03e9a6",
   "metadata": {},
   "outputs": [
    {
     "data": {
      "text/plain": [
       "array([ 4,  6,  8, 10, 12])"
      ]
     },
     "execution_count": 27,
     "metadata": {},
     "output_type": "execute_result"
    }
   ],
   "source": [
    "m[3::2]"
   ]
  },
  {
   "cell_type": "code",
   "execution_count": 28,
   "id": "f89309c0",
   "metadata": {},
   "outputs": [
    {
     "data": {
      "text/plain": [
       "array([ 1,  6, 11])"
      ]
     },
     "execution_count": 28,
     "metadata": {},
     "output_type": "execute_result"
    }
   ],
   "source": [
    "m[::5]"
   ]
  },
  {
   "cell_type": "markdown",
   "id": "eba7116c",
   "metadata": {},
   "source": [
    "Indexing of 1D array"
   ]
  },
  {
   "cell_type": "code",
   "execution_count": 29,
   "id": "8e995ec2",
   "metadata": {},
   "outputs": [
    {
     "data": {
      "text/plain": [
       "2"
      ]
     },
     "execution_count": 29,
     "metadata": {},
     "output_type": "execute_result"
    }
   ],
   "source": [
    "# Here we are retreiving the element by providing the index number\n",
    "m[1]"
   ]
  },
  {
   "cell_type": "code",
   "execution_count": 30,
   "id": "b44115e1",
   "metadata": {},
   "outputs": [
    {
     "data": {
      "text/plain": [
       "6"
      ]
     },
     "execution_count": 30,
     "metadata": {},
     "output_type": "execute_result"
    }
   ],
   "source": [
    "m[5]"
   ]
  },
  {
   "cell_type": "code",
   "execution_count": 31,
   "id": "7a377d8e",
   "metadata": {},
   "outputs": [
    {
     "data": {
      "text/plain": [
       "array([[1, 2, 3, 4],\n",
       "       [5, 6, 7, 8]])"
      ]
     },
     "execution_count": 31,
     "metadata": {},
     "output_type": "execute_result"
    }
   ],
   "source": [
    "a=np.array([[1,2,3,4],[5,6,7,8]])\n",
    "a"
   ]
  },
  {
   "cell_type": "markdown",
   "id": "7ce70702",
   "metadata": {},
   "source": [
    "Indexing"
   ]
  },
  {
   "cell_type": "code",
   "execution_count": 55,
   "id": "f749bc85",
   "metadata": {},
   "outputs": [
    {
     "data": {
      "text/plain": [
       "1"
      ]
     },
     "execution_count": 55,
     "metadata": {},
     "output_type": "execute_result"
    }
   ],
   "source": [
    "#Here we are retrieving the value of '0' row and '0' column\n",
    "a[0,0]"
   ]
  },
  {
   "cell_type": "code",
   "execution_count": 56,
   "id": "d967c868",
   "metadata": {},
   "outputs": [
    {
     "data": {
      "text/plain": [
       "8"
      ]
     },
     "execution_count": 56,
     "metadata": {},
     "output_type": "execute_result"
    }
   ],
   "source": [
    "#Here we are retrieving the value of '1' row and '3' column\n",
    "a[1][3]"
   ]
  },
  {
   "cell_type": "markdown",
   "id": "225f4def",
   "metadata": {},
   "source": [
    "Slicing"
   ]
  },
  {
   "cell_type": "code",
   "execution_count": 59,
   "id": "150fc328",
   "metadata": {},
   "outputs": [
    {
     "data": {
      "text/plain": [
       "array([6, 7])"
      ]
     },
     "execution_count": 59,
     "metadata": {},
     "output_type": "execute_result"
    }
   ],
   "source": [
    "#Here we are retrieving the value from 1 row and 1,2 column value\n",
    "\n",
    "a[1,1:3]"
   ]
  },
  {
   "cell_type": "code",
   "execution_count": 60,
   "id": "dd3a09bb",
   "metadata": {},
   "outputs": [
    {
     "data": {
      "text/plain": [
       "array([4, 8])"
      ]
     },
     "execution_count": 60,
     "metadata": {},
     "output_type": "execute_result"
    }
   ],
   "source": [
    "#Here we are retrieving the value from both row and 3 column value\n",
    "a[0:2,3]"
   ]
  },
  {
   "cell_type": "code",
   "execution_count": 61,
   "id": "d0979077",
   "metadata": {},
   "outputs": [
    {
     "data": {
      "text/plain": [
       "array([[1],\n",
       "       [5]])"
      ]
     },
     "execution_count": 61,
     "metadata": {},
     "output_type": "execute_result"
    }
   ],
   "source": [
    "#Here we are retrieving the value from both row and 0 column value\n",
    "a[0:2,0:1]"
   ]
  },
  {
   "cell_type": "code",
   "execution_count": 51,
   "id": "ecdb61ce",
   "metadata": {},
   "outputs": [
    {
     "data": {
      "text/plain": [
       "array([[1, 2, 3],\n",
       "       [5, 6, 7]])"
      ]
     },
     "execution_count": 51,
     "metadata": {},
     "output_type": "execute_result"
    }
   ],
   "source": [
    "#Here we are retrieving the value from both row and 0,1,2 column value\n",
    "a[0:2,0:3]"
   ]
  },
  {
   "cell_type": "code",
   "execution_count": 67,
   "id": "25bb8359",
   "metadata": {},
   "outputs": [
    {
     "data": {
      "text/plain": [
       "array([[1, 2, 3, 4],\n",
       "       [5, 6, 7, 8]])"
      ]
     },
     "execution_count": 67,
     "metadata": {},
     "output_type": "execute_result"
    }
   ],
   "source": [
    "a=np.array([[1,2,3,4],[5,6,7,8]])\n",
    "a"
   ]
  },
  {
   "cell_type": "code",
   "execution_count": 68,
   "id": "afd163aa",
   "metadata": {},
   "outputs": [
    {
     "data": {
      "text/plain": [
       "array([[False, False,  True,  True],\n",
       "       [ True,  True,  True,  True]])"
      ]
     },
     "execution_count": 68,
     "metadata": {},
     "output_type": "execute_result"
    }
   ],
   "source": [
    "a>2"
   ]
  },
  {
   "cell_type": "code",
   "execution_count": 69,
   "id": "ab383b94",
   "metadata": {},
   "outputs": [
    {
     "data": {
      "text/plain": [
       "array([3, 4, 5, 6, 7, 8])"
      ]
     },
     "execution_count": 69,
     "metadata": {},
     "output_type": "execute_result"
    }
   ],
   "source": [
    "#Retreive all values greater than 2\n",
    "a[a>2]"
   ]
  },
  {
   "cell_type": "code",
   "execution_count": 82,
   "id": "3f8fcc8f",
   "metadata": {},
   "outputs": [
    {
     "data": {
      "text/plain": [
       "array([1, 2, 3])"
      ]
     },
     "execution_count": 82,
     "metadata": {},
     "output_type": "execute_result"
    }
   ],
   "source": [
    "#Retreive all values smaller than 4\n",
    "a[a<4]"
   ]
  },
  {
   "cell_type": "code",
   "execution_count": 83,
   "id": "301d0a46",
   "metadata": {},
   "outputs": [
    {
     "data": {
      "text/plain": [
       "array(['Jagdish', 'tejas', 'dhaval', 'bhavesh', 'montu', 'bipin',\n",
       "       'Jagdish'], dtype='<U7')"
      ]
     },
     "execution_count": 83,
     "metadata": {},
     "output_type": "execute_result"
    }
   ],
   "source": [
    "b=np.array(['Jagdish','tejas','dhaval','bhavesh','montu','bipin','Jagdish'])\n",
    "b"
   ]
  },
  {
   "cell_type": "code",
   "execution_count": 84,
   "id": "93f357b7",
   "metadata": {},
   "outputs": [
    {
     "data": {
      "text/plain": [
       "array([False, False, False, False, False, False, False])"
      ]
     },
     "execution_count": 84,
     "metadata": {},
     "output_type": "execute_result"
    }
   ],
   "source": [
    "#Retreive all value having name rohit\n",
    "# As below we can see all values are false\n",
    "# as no value having name rohit\n",
    "b=='rohit'"
   ]
  },
  {
   "cell_type": "code",
   "execution_count": 85,
   "id": "f9beecee",
   "metadata": {},
   "outputs": [
    {
     "data": {
      "text/plain": [
       "array(['dhaval'], dtype='<U7')"
      ]
     },
     "execution_count": 85,
     "metadata": {},
     "output_type": "execute_result"
    }
   ],
   "source": [
    "#Retreive all value having name dhaval\n",
    "b[b=='dhaval']"
   ]
  },
  {
   "cell_type": "code",
   "execution_count": 86,
   "id": "36ccd7bf",
   "metadata": {},
   "outputs": [
    {
     "data": {
      "text/plain": [
       "array(['Jagdish', 'dhaval', 'bhavesh', 'montu', 'bipin', 'Jagdish'],\n",
       "      dtype='<U7')"
      ]
     },
     "execution_count": 86,
     "metadata": {},
     "output_type": "execute_result"
    }
   ],
   "source": [
    "#Retreive all value having name tejas\n",
    "b[b!='tejas']"
   ]
  },
  {
   "cell_type": "code",
   "execution_count": 88,
   "id": "2fd2ffeb",
   "metadata": {},
   "outputs": [
    {
     "data": {
      "text/plain": [
       "array(['Jagdish', 'montu', 'Jagdish'], dtype='<U7')"
      ]
     },
     "execution_count": 88,
     "metadata": {},
     "output_type": "execute_result"
    }
   ],
   "source": [
    "#Retreive all value having name montu or Jagdish\n",
    "b[(b=='montu') | (b=='Jagdish')]"
   ]
  },
  {
   "cell_type": "code",
   "execution_count": 91,
   "id": "f11f9308",
   "metadata": {},
   "outputs": [
    {
     "data": {
      "text/plain": [
       "array(['Jagdish', 'bhavesh', 'bipin', 'dhaval', 'montu', 'tejas'],\n",
       "      dtype='<U7')"
      ]
     },
     "execution_count": 91,
     "metadata": {},
     "output_type": "execute_result"
    }
   ],
   "source": [
    "#Retreive all values without repetition\n",
    "np.unique(b)"
   ]
  },
  {
   "cell_type": "markdown",
   "id": "7f051253",
   "metadata": {},
   "source": [
    "Statistical function"
   ]
  },
  {
   "cell_type": "code",
   "execution_count": 96,
   "id": "8455e93c",
   "metadata": {},
   "outputs": [
    {
     "data": {
      "text/plain": [
       "array([ 1,  2,  3,  4,  5,  6,  7,  8,  9, 10, 11, 12, 13, 14])"
      ]
     },
     "execution_count": 96,
     "metadata": {},
     "output_type": "execute_result"
    }
   ],
   "source": [
    "a=np.arange(1,15)\n",
    "a"
   ]
  },
  {
   "cell_type": "code",
   "execution_count": 97,
   "id": "68aec362",
   "metadata": {},
   "outputs": [
    {
     "data": {
      "text/plain": [
       "1"
      ]
     },
     "execution_count": 97,
     "metadata": {},
     "output_type": "execute_result"
    }
   ],
   "source": [
    "# Retreive the smallest value from array\n",
    "a.min()"
   ]
  },
  {
   "cell_type": "code",
   "execution_count": 98,
   "id": "8c5a2561",
   "metadata": {},
   "outputs": [
    {
     "data": {
      "text/plain": [
       "14"
      ]
     },
     "execution_count": 98,
     "metadata": {},
     "output_type": "execute_result"
    }
   ],
   "source": [
    "# Retreive the greatest value from array\n",
    "a.max()"
   ]
  },
  {
   "cell_type": "code",
   "execution_count": 100,
   "id": "e10ef0c2",
   "metadata": {},
   "outputs": [
    {
     "data": {
      "text/plain": [
       "4.031128874149275"
      ]
     },
     "execution_count": 100,
     "metadata": {},
     "output_type": "execute_result"
    }
   ],
   "source": [
    "# Retreive the standard deviation value from array\n",
    "a.std()"
   ]
  },
  {
   "cell_type": "code",
   "execution_count": 106,
   "id": "d13da663",
   "metadata": {},
   "outputs": [
    {
     "data": {
      "text/plain": [
       "7.5"
      ]
     },
     "execution_count": 106,
     "metadata": {},
     "output_type": "execute_result"
    }
   ],
   "source": [
    "# Retreive the mean value from array\n",
    "a.mean()"
   ]
  },
  {
   "cell_type": "code",
   "execution_count": 108,
   "id": "b7e08095",
   "metadata": {},
   "outputs": [
    {
     "data": {
      "text/plain": [
       "105"
      ]
     },
     "execution_count": 108,
     "metadata": {},
     "output_type": "execute_result"
    }
   ],
   "source": [
    "# Retreive the addition of all value from array\n",
    "a.sum()"
   ]
  },
  {
   "cell_type": "code",
   "execution_count": 110,
   "id": "75432277",
   "metadata": {},
   "outputs": [
    {
     "data": {
      "text/plain": [
       "array([13, 14, 15, 16, 17, 18, 19, 20, 21, 22, 23, 24, 25, 26])"
      ]
     },
     "execution_count": 110,
     "metadata": {},
     "output_type": "execute_result"
    }
   ],
   "source": [
    "# Adding 12 to all value of array\n",
    "a+12"
   ]
  },
  {
   "cell_type": "code",
   "execution_count": null,
   "id": "a634eafd",
   "metadata": {},
   "outputs": [],
   "source": []
  },
  {
   "cell_type": "code",
   "execution_count": 95,
   "id": "51d2ab91",
   "metadata": {},
   "outputs": [
    {
     "data": {
      "text/plain": [
       "array([[ 1,  2,  3,  4],\n",
       "       [ 5,  6,  7,  8],\n",
       "       [ 9, 10, 11, 12]])"
      ]
     },
     "execution_count": 95,
     "metadata": {},
     "output_type": "execute_result"
    }
   ],
   "source": [
    "b=np.arange(1,13).reshape(3,4)\n",
    "b"
   ]
  },
  {
   "cell_type": "code",
   "execution_count": 99,
   "id": "c650a8a0",
   "metadata": {},
   "outputs": [
    {
     "data": {
      "text/plain": [
       "12"
      ]
     },
     "execution_count": 99,
     "metadata": {},
     "output_type": "execute_result"
    }
   ],
   "source": [
    "b.max()"
   ]
  },
  {
   "cell_type": "code",
   "execution_count": 111,
   "id": "183432db",
   "metadata": {},
   "outputs": [
    {
     "data": {
      "text/plain": [
       "array([[ 1,  2,  3,  4],\n",
       "       [ 5,  6,  7,  8],\n",
       "       [ 9, 10, 11, 12]])"
      ]
     },
     "execution_count": 111,
     "metadata": {},
     "output_type": "execute_result"
    }
   ],
   "source": [
    "b"
   ]
  },
  {
   "cell_type": "code",
   "execution_count": 113,
   "id": "452cab6d",
   "metadata": {},
   "outputs": [
    {
     "data": {
      "text/plain": [
       "array([ 1,  2,  3,  4,  5,  6,  7,  8,  9, 10, 11, 12])"
      ]
     },
     "execution_count": 113,
     "metadata": {},
     "output_type": "execute_result"
    }
   ],
   "source": [
    "# Retrive the one dimensional array\n",
    "b.flatten()"
   ]
  },
  {
   "cell_type": "markdown",
   "id": "43f8def9",
   "metadata": {},
   "source": [
    "Arithmetic function"
   ]
  },
  {
   "cell_type": "code",
   "execution_count": 118,
   "id": "c4ec8244",
   "metadata": {},
   "outputs": [
    {
     "data": {
      "text/plain": [
       "array([[ 1,  2,  3,  4],\n",
       "       [ 5,  6,  7,  8],\n",
       "       [ 9, 10, 11, 12]])"
      ]
     },
     "execution_count": 118,
     "metadata": {},
     "output_type": "execute_result"
    }
   ],
   "source": [
    "a=np.arange(1,13).reshape(3,4)\n",
    "a"
   ]
  },
  {
   "cell_type": "code",
   "execution_count": 116,
   "id": "10990944",
   "metadata": {},
   "outputs": [
    {
     "data": {
      "text/plain": [
       "array([[21, 22, 23, 24],\n",
       "       [25, 26, 27, 28],\n",
       "       [29, 30, 31, 32]])"
      ]
     },
     "execution_count": 116,
     "metadata": {},
     "output_type": "execute_result"
    }
   ],
   "source": [
    "b=np.arange(21,33).reshape(3,4)\n",
    "b"
   ]
  },
  {
   "cell_type": "code",
   "execution_count": 120,
   "id": "ae2c7d3d",
   "metadata": {},
   "outputs": [
    {
     "data": {
      "text/plain": [
       "array([[22, 24, 26, 28],\n",
       "       [30, 32, 34, 36],\n",
       "       [38, 40, 42, 44]])"
      ]
     },
     "execution_count": 120,
     "metadata": {},
     "output_type": "execute_result"
    }
   ],
   "source": [
    "# Addition of array a and b\n",
    "np.add(a,b)"
   ]
  },
  {
   "cell_type": "code",
   "execution_count": 121,
   "id": "9a86b87a",
   "metadata": {},
   "outputs": [
    {
     "data": {
      "text/plain": [
       "array([[-20, -20, -20, -20],\n",
       "       [-20, -20, -20, -20],\n",
       "       [-20, -20, -20, -20]])"
      ]
     },
     "execution_count": 121,
     "metadata": {},
     "output_type": "execute_result"
    }
   ],
   "source": [
    "# Substraction of array a and b\n",
    "np.subtract(a,b)"
   ]
  },
  {
   "cell_type": "code",
   "execution_count": 123,
   "id": "3184c19b",
   "metadata": {},
   "outputs": [
    {
     "data": {
      "text/plain": [
       "array([[ 21,  44,  69,  96],\n",
       "       [125, 156, 189, 224],\n",
       "       [261, 300, 341, 384]])"
      ]
     },
     "execution_count": 123,
     "metadata": {},
     "output_type": "execute_result"
    }
   ],
   "source": [
    "# Multiplication of array a and b\n",
    "np.multiply(a,b)"
   ]
  },
  {
   "cell_type": "code",
   "execution_count": 126,
   "id": "2de55140",
   "metadata": {},
   "outputs": [
    {
     "data": {
      "text/plain": [
       "array([[21.        , 11.        ,  7.66666667,  6.        ],\n",
       "       [ 5.        ,  4.33333333,  3.85714286,  3.5       ],\n",
       "       [ 3.22222222,  3.        ,  2.81818182,  2.66666667]])"
      ]
     },
     "execution_count": 126,
     "metadata": {},
     "output_type": "execute_result"
    }
   ],
   "source": [
    "# dividing of array b by a\n",
    "np.divide(b,a)"
   ]
  },
  {
   "cell_type": "code",
   "execution_count": 132,
   "id": "cb40cd20",
   "metadata": {},
   "outputs": [
    {
     "data": {
      "text/plain": [
       "array([[ 21,  22,  23,  24,  42,  44,  46,  48,  63,  66,  69,  72,  84,\n",
       "         88,  92,  96],\n",
       "       [ 25,  26,  27,  28,  50,  52,  54,  56,  75,  78,  81,  84, 100,\n",
       "        104, 108, 112],\n",
       "       [ 29,  30,  31,  32,  58,  60,  62,  64,  87,  90,  93,  96, 116,\n",
       "        120, 124, 128],\n",
       "       [105, 110, 115, 120, 126, 132, 138, 144, 147, 154, 161, 168, 168,\n",
       "        176, 184, 192],\n",
       "       [125, 130, 135, 140, 150, 156, 162, 168, 175, 182, 189, 196, 200,\n",
       "        208, 216, 224],\n",
       "       [145, 150, 155, 160, 174, 180, 186, 192, 203, 210, 217, 224, 232,\n",
       "        240, 248, 256],\n",
       "       [189, 198, 207, 216, 210, 220, 230, 240, 231, 242, 253, 264, 252,\n",
       "        264, 276, 288],\n",
       "       [225, 234, 243, 252, 250, 260, 270, 280, 275, 286, 297, 308, 300,\n",
       "        312, 324, 336],\n",
       "       [261, 270, 279, 288, 290, 300, 310, 320, 319, 330, 341, 352, 348,\n",
       "        360, 372, 384]])"
      ]
     },
     "execution_count": 132,
     "metadata": {},
     "output_type": "execute_result"
    }
   ],
   "source": [
    "# cross product of array a and b\n",
    "np.kron(a,b)"
   ]
  },
  {
   "cell_type": "code",
   "execution_count": 143,
   "id": "42abd524",
   "metadata": {},
   "outputs": [
    {
     "data": {
      "text/plain": [
       "array([[  1,   4,   9],\n",
       "       [ 16,  25,  36],\n",
       "       [ 49,  64,  81],\n",
       "       [100, 121, 144]], dtype=int32)"
      ]
     },
     "execution_count": 143,
     "metadata": {},
     "output_type": "execute_result"
    }
   ],
   "source": [
    "# return power 2 to all values\n",
    "np.power(a,2)"
   ]
  },
  {
   "cell_type": "code",
   "execution_count": 139,
   "id": "e4604f3e",
   "metadata": {},
   "outputs": [
    {
     "data": {
      "text/plain": [
       "array([[ 1,  2,  3],\n",
       "       [ 4,  5,  6],\n",
       "       [ 7,  8,  9],\n",
       "       [10, 11, 12]])"
      ]
     },
     "execution_count": 139,
     "metadata": {},
     "output_type": "execute_result"
    }
   ],
   "source": [
    "a=np.arange(1,13).reshape(4,3)\n",
    "a"
   ]
  },
  {
   "cell_type": "code",
   "execution_count": 141,
   "id": "970f7f7a",
   "metadata": {},
   "outputs": [
    {
     "data": {
      "text/plain": [
       "array([[21, 22, 23, 24],\n",
       "       [25, 26, 27, 28],\n",
       "       [29, 30, 31, 32]])"
      ]
     },
     "execution_count": 141,
     "metadata": {},
     "output_type": "execute_result"
    }
   ],
   "source": [
    "b=np.arange(21,33).reshape(3,4)\n",
    "b"
   ]
  },
  {
   "cell_type": "code",
   "execution_count": 142,
   "id": "f109eb5d",
   "metadata": {},
   "outputs": [
    {
     "data": {
      "text/plain": [
       "array([[158, 164, 170, 176],\n",
       "       [383, 398, 413, 428],\n",
       "       [608, 632, 656, 680],\n",
       "       [833, 866, 899, 932]])"
      ]
     },
     "execution_count": 142,
     "metadata": {},
     "output_type": "execute_result"
    }
   ],
   "source": [
    "# dot product of a and b \n",
    "# In dot product  column value of 1 array should same to row \n",
    "# value of 2 array\n",
    "np.dot(a,b)"
   ]
  },
  {
   "cell_type": "code",
   "execution_count": null,
   "id": "25810bda",
   "metadata": {},
   "outputs": [],
   "source": []
  }
 ],
 "metadata": {
  "kernelspec": {
   "display_name": "Python 3",
   "language": "python",
   "name": "python3"
  },
  "language_info": {
   "codemirror_mode": {
    "name": "ipython",
    "version": 3
   },
   "file_extension": ".py",
   "mimetype": "text/x-python",
   "name": "python",
   "nbconvert_exporter": "python",
   "pygments_lexer": "ipython3",
   "version": "3.8.8"
  }
 },
 "nbformat": 4,
 "nbformat_minor": 5
}
